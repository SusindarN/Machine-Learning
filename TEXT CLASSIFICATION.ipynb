{
 "cells": [
  {
   "cell_type": "code",
   "execution_count": 75,
   "metadata": {},
   "outputs": [],
   "source": [
    "import pandas as pd\n",
    "import re\n",
    "from sklearn.feature_extraction.text import TfidfVectorizer,CountVectorizer,HashingVectorizer\n",
    "import numpy as np\n",
    "import nltk\n",
    "from nltk.corpus import stopwords\n",
    "from nltk.stem.snowball import SnowballStemmer\n",
    "from sklearn.metrics import accuracy_score\n",
    "from sklearn.ensemble import GradientBoostingClassifier,AdaBoostClassifier\n",
    "from sklearn.linear_model import SGDClassifier\n",
    "import xgboost\n",
    "from sklearn.model_selection import cross_val_score"
   ]
  },
  {
   "cell_type": "code",
   "execution_count": 76,
   "metadata": {},
   "outputs": [],
   "source": [
    "ADA=AdaBoostClassifier()"
   ]
  },
  {
   "cell_type": "code",
   "execution_count": 77,
   "metadata": {},
   "outputs": [],
   "source": [
    "XGC=xgboost.XGBClassifier()"
   ]
  },
  {
   "cell_type": "code",
   "execution_count": 78,
   "metadata": {},
   "outputs": [
    {
     "data": {
      "text/html": [
       "<div>\n",
       "<style scoped>\n",
       "    .dataframe tbody tr th:only-of-type {\n",
       "        vertical-align: middle;\n",
       "    }\n",
       "\n",
       "    .dataframe tbody tr th {\n",
       "        vertical-align: top;\n",
       "    }\n",
       "\n",
       "    .dataframe thead th {\n",
       "        text-align: right;\n",
       "    }\n",
       "</style>\n",
       "<table border=\"1\" class=\"dataframe\">\n",
       "  <thead>\n",
       "    <tr style=\"text-align: right;\">\n",
       "      <th></th>\n",
       "      <th>inline-comment-id</th>\n",
       "      <th># Comment</th>\n",
       "      <th>Question</th>\n",
       "      <th>Final Label</th>\n",
       "    </tr>\n",
       "  </thead>\n",
       "  <tbody>\n",
       "    <tr>\n",
       "      <th>0</th>\n",
       "      <td>84326dd1_566c7146</td>\n",
       "      <td>1</td>\n",
       "      <td>is this what they intended? don't they really ...</td>\n",
       "      <td>request for confirmation</td>\n",
       "    </tr>\n",
       "    <tr>\n",
       "      <th>1</th>\n",
       "      <td>84326dd1_566c7146</td>\n",
       "      <td>2</td>\n",
       "      <td>is this what they intended? don't they really ...</td>\n",
       "      <td>surprise</td>\n",
       "    </tr>\n",
       "    <tr>\n",
       "      <th>2</th>\n",
       "      <td>99d1f8e4_92b31cea</td>\n",
       "      <td>3</td>\n",
       "      <td>Don't we need to increment 'i' in the else cas...</td>\n",
       "      <td>suggestion</td>\n",
       "    </tr>\n",
       "    <tr>\n",
       "      <th>3</th>\n",
       "      <td>193d089f_f5fac752</td>\n",
       "      <td>4</td>\n",
       "      <td>i can't see anywhere where this is set to fals...</td>\n",
       "      <td>suggestion</td>\n",
       "    </tr>\n",
       "    <tr>\n",
       "      <th>4</th>\n",
       "      <td>50c2f81e_ac4fd6fc</td>\n",
       "      <td>5</td>\n",
       "      <td>are you sure you want to include this source f...</td>\n",
       "      <td>criticism</td>\n",
       "    </tr>\n",
       "    <tr>\n",
       "      <th>...</th>\n",
       "      <td>...</td>\n",
       "      <td>...</td>\n",
       "      <td>...</td>\n",
       "      <td>...</td>\n",
       "    </tr>\n",
       "    <tr>\n",
       "      <th>494</th>\n",
       "      <td>cafaac81_2fec65e1</td>\n",
       "      <td>495</td>\n",
       "      <td>does this work for glibc? they have a FORTIFY ...</td>\n",
       "      <td>request for confirmation</td>\n",
       "    </tr>\n",
       "    <tr>\n",
       "      <th>495</th>\n",
       "      <td>bf1dbc5e_1aa99db1</td>\n",
       "      <td>496</td>\n",
       "      <td>extern \"C\" but using bool without &lt;stdbool.h&gt; ...</td>\n",
       "      <td>surprise</td>\n",
       "    </tr>\n",
       "    <tr>\n",
       "      <th>496</th>\n",
       "      <td>bf1dbc5e_1aa99db1</td>\n",
       "      <td>497</td>\n",
       "      <td>extern \"C\" but using bool without &lt;stdbool.h&gt; ...</td>\n",
       "      <td>suggestion</td>\n",
       "    </tr>\n",
       "    <tr>\n",
       "      <th>497</th>\n",
       "      <td>9f439833_6e39afeb</td>\n",
       "      <td>498</td>\n",
       "      <td>Did you hit build issues here or is this just ...</td>\n",
       "      <td>request for information</td>\n",
       "    </tr>\n",
       "    <tr>\n",
       "      <th>498</th>\n",
       "      <td>7f3264d4_cd929dd0</td>\n",
       "      <td>499</td>\n",
       "      <td>Do we not really need a read barrier here (lik...</td>\n",
       "      <td>request for clarification</td>\n",
       "    </tr>\n",
       "  </tbody>\n",
       "</table>\n",
       "<p>499 rows × 4 columns</p>\n",
       "</div>"
      ],
      "text/plain": [
       "     inline-comment-id  # Comment  \\\n",
       "0    84326dd1_566c7146          1   \n",
       "1    84326dd1_566c7146          2   \n",
       "2    99d1f8e4_92b31cea          3   \n",
       "3    193d089f_f5fac752          4   \n",
       "4    50c2f81e_ac4fd6fc          5   \n",
       "..                 ...        ...   \n",
       "494  cafaac81_2fec65e1        495   \n",
       "495  bf1dbc5e_1aa99db1        496   \n",
       "496  bf1dbc5e_1aa99db1        497   \n",
       "497  9f439833_6e39afeb        498   \n",
       "498  7f3264d4_cd929dd0        499   \n",
       "\n",
       "                                              Question  \\\n",
       "0    is this what they intended? don't they really ...   \n",
       "1    is this what they intended? don't they really ...   \n",
       "2    Don't we need to increment 'i' in the else cas...   \n",
       "3    i can't see anywhere where this is set to fals...   \n",
       "4    are you sure you want to include this source f...   \n",
       "..                                                 ...   \n",
       "494  does this work for glibc? they have a FORTIFY ...   \n",
       "495  extern \"C\" but using bool without <stdbool.h> ...   \n",
       "496  extern \"C\" but using bool without <stdbool.h> ...   \n",
       "497  Did you hit build issues here or is this just ...   \n",
       "498  Do we not really need a read barrier here (lik...   \n",
       "\n",
       "                   Final Label  \n",
       "0     request for confirmation  \n",
       "1                     surprise  \n",
       "2                   suggestion  \n",
       "3                   suggestion  \n",
       "4                    criticism  \n",
       "..                         ...  \n",
       "494   request for confirmation  \n",
       "495                   surprise  \n",
       "496                 suggestion  \n",
       "497    request for information  \n",
       "498  request for clarification  \n",
       "\n",
       "[499 rows x 4 columns]"
      ]
     },
     "execution_count": 78,
     "metadata": {},
     "output_type": "execute_result"
    }
   ],
   "source": [
    "df=pd.read_csv(\"dataset.csv\")\n",
    "df"
   ]
  },
  {
   "cell_type": "code",
   "execution_count": 79,
   "metadata": {},
   "outputs": [],
   "source": [
    "df[\"Final Label\"].value_counts()\n",
    "df[\"Final Label\"]=df[\"Final Label\"].replace({\"suggestion\":1,\n",
    "           \"hypothetical scenario\":4,\n",
    "           \"rhetorical question\":2,\n",
    "           })"
   ]
  },
  {
   "cell_type": "code",
   "execution_count": 80,
   "metadata": {},
   "outputs": [],
   "source": [
    "df.loc[df['Final Label'].str.contains('request',na=False), 'Final Label'] =3"
   ]
  },
  {
   "cell_type": "code",
   "execution_count": 81,
   "metadata": {},
   "outputs": [],
   "source": [
    "df[\"Final Label\"]=df[\"Final Label\"].apply(lambda x: 5 if type(x)==str else x)"
   ]
  },
  {
   "cell_type": "code",
   "execution_count": 83,
   "metadata": {},
   "outputs": [],
   "source": [
    "corpus =[]\n",
    "for i in range(0, len(df)):\n",
    "    text = re.sub('[^a-zA-Z]', ' ', df['Question'][i]).strip().lower()\n",
    "    text=text.split()\n",
    "    sb = SnowballStemmer(language=\"english\")\n",
    "    all_stopwords = stopwords.words('english')\n",
    "    text = [sb.stem(word) for word in text if not word in set(all_stopwords)]\n",
    "    text = ' '.join(text)\n",
    "    corpus.append(text)"
   ]
  },
  {
   "cell_type": "code",
   "execution_count": 84,
   "metadata": {},
   "outputs": [
    {
     "data": {
      "text/html": [
       "<div>\n",
       "<style scoped>\n",
       "    .dataframe tbody tr th:only-of-type {\n",
       "        vertical-align: middle;\n",
       "    }\n",
       "\n",
       "    .dataframe tbody tr th {\n",
       "        vertical-align: top;\n",
       "    }\n",
       "\n",
       "    .dataframe thead th {\n",
       "        text-align: right;\n",
       "    }\n",
       "</style>\n",
       "<table border=\"1\" class=\"dataframe\">\n",
       "  <thead>\n",
       "    <tr style=\"text-align: right;\">\n",
       "      <th></th>\n",
       "      <th>inline-comment-id</th>\n",
       "      <th># Comment</th>\n",
       "      <th>Question</th>\n",
       "      <th>Final Label</th>\n",
       "    </tr>\n",
       "  </thead>\n",
       "  <tbody>\n",
       "    <tr>\n",
       "      <th>0</th>\n",
       "      <td>84326dd1_566c7146</td>\n",
       "      <td>1</td>\n",
       "      <td>is this what they intended? don't they really ...</td>\n",
       "      <td>3</td>\n",
       "    </tr>\n",
       "    <tr>\n",
       "      <th>1</th>\n",
       "      <td>84326dd1_566c7146</td>\n",
       "      <td>2</td>\n",
       "      <td>is this what they intended? don't they really ...</td>\n",
       "      <td>5</td>\n",
       "    </tr>\n",
       "    <tr>\n",
       "      <th>2</th>\n",
       "      <td>99d1f8e4_92b31cea</td>\n",
       "      <td>3</td>\n",
       "      <td>Don't we need to increment 'i' in the else cas...</td>\n",
       "      <td>1</td>\n",
       "    </tr>\n",
       "    <tr>\n",
       "      <th>3</th>\n",
       "      <td>193d089f_f5fac752</td>\n",
       "      <td>4</td>\n",
       "      <td>i can't see anywhere where this is set to fals...</td>\n",
       "      <td>1</td>\n",
       "    </tr>\n",
       "    <tr>\n",
       "      <th>4</th>\n",
       "      <td>50c2f81e_ac4fd6fc</td>\n",
       "      <td>5</td>\n",
       "      <td>are you sure you want to include this source f...</td>\n",
       "      <td>5</td>\n",
       "    </tr>\n",
       "    <tr>\n",
       "      <th>...</th>\n",
       "      <td>...</td>\n",
       "      <td>...</td>\n",
       "      <td>...</td>\n",
       "      <td>...</td>\n",
       "    </tr>\n",
       "    <tr>\n",
       "      <th>494</th>\n",
       "      <td>cafaac81_2fec65e1</td>\n",
       "      <td>495</td>\n",
       "      <td>does this work for glibc? they have a FORTIFY ...</td>\n",
       "      <td>3</td>\n",
       "    </tr>\n",
       "    <tr>\n",
       "      <th>495</th>\n",
       "      <td>bf1dbc5e_1aa99db1</td>\n",
       "      <td>496</td>\n",
       "      <td>extern \"C\" but using bool without &lt;stdbool.h&gt; ...</td>\n",
       "      <td>5</td>\n",
       "    </tr>\n",
       "    <tr>\n",
       "      <th>496</th>\n",
       "      <td>bf1dbc5e_1aa99db1</td>\n",
       "      <td>497</td>\n",
       "      <td>extern \"C\" but using bool without &lt;stdbool.h&gt; ...</td>\n",
       "      <td>1</td>\n",
       "    </tr>\n",
       "    <tr>\n",
       "      <th>497</th>\n",
       "      <td>9f439833_6e39afeb</td>\n",
       "      <td>498</td>\n",
       "      <td>Did you hit build issues here or is this just ...</td>\n",
       "      <td>3</td>\n",
       "    </tr>\n",
       "    <tr>\n",
       "      <th>498</th>\n",
       "      <td>7f3264d4_cd929dd0</td>\n",
       "      <td>499</td>\n",
       "      <td>Do we not really need a read barrier here (lik...</td>\n",
       "      <td>3</td>\n",
       "    </tr>\n",
       "  </tbody>\n",
       "</table>\n",
       "<p>499 rows × 4 columns</p>\n",
       "</div>"
      ],
      "text/plain": [
       "     inline-comment-id  # Comment  \\\n",
       "0    84326dd1_566c7146          1   \n",
       "1    84326dd1_566c7146          2   \n",
       "2    99d1f8e4_92b31cea          3   \n",
       "3    193d089f_f5fac752          4   \n",
       "4    50c2f81e_ac4fd6fc          5   \n",
       "..                 ...        ...   \n",
       "494  cafaac81_2fec65e1        495   \n",
       "495  bf1dbc5e_1aa99db1        496   \n",
       "496  bf1dbc5e_1aa99db1        497   \n",
       "497  9f439833_6e39afeb        498   \n",
       "498  7f3264d4_cd929dd0        499   \n",
       "\n",
       "                                              Question  Final Label  \n",
       "0    is this what they intended? don't they really ...            3  \n",
       "1    is this what they intended? don't they really ...            5  \n",
       "2    Don't we need to increment 'i' in the else cas...            1  \n",
       "3    i can't see anywhere where this is set to fals...            1  \n",
       "4    are you sure you want to include this source f...            5  \n",
       "..                                                 ...          ...  \n",
       "494  does this work for glibc? they have a FORTIFY ...            3  \n",
       "495  extern \"C\" but using bool without <stdbool.h> ...            5  \n",
       "496  extern \"C\" but using bool without <stdbool.h> ...            1  \n",
       "497  Did you hit build issues here or is this just ...            3  \n",
       "498  Do we not really need a read barrier here (lik...            3  \n",
       "\n",
       "[499 rows x 4 columns]"
      ]
     },
     "execution_count": 84,
     "metadata": {},
     "output_type": "execute_result"
    }
   ],
   "source": [
    "df"
   ]
  },
  {
   "cell_type": "code",
   "execution_count": 85,
   "metadata": {},
   "outputs": [],
   "source": [
    "new=[]\n",
    "import random\n",
    "for i in range(len(df)):\n",
    "    new+=[(all_stopwords[random.randint(0,170)])]"
   ]
  },
  {
   "cell_type": "code",
   "execution_count": 86,
   "metadata": {},
   "outputs": [],
   "source": [
    "new=pd.DataFrame(new)"
   ]
  },
  {
   "cell_type": "code",
   "execution_count": 87,
   "metadata": {},
   "outputs": [],
   "source": [
    "df=df.join(new)\n"
   ]
  },
  {
   "cell_type": "code",
   "execution_count": 88,
   "metadata": {},
   "outputs": [
    {
     "data": {
      "text/html": [
       "<div>\n",
       "<style scoped>\n",
       "    .dataframe tbody tr th:only-of-type {\n",
       "        vertical-align: middle;\n",
       "    }\n",
       "\n",
       "    .dataframe tbody tr th {\n",
       "        vertical-align: top;\n",
       "    }\n",
       "\n",
       "    .dataframe thead th {\n",
       "        text-align: right;\n",
       "    }\n",
       "</style>\n",
       "<table border=\"1\" class=\"dataframe\">\n",
       "  <thead>\n",
       "    <tr style=\"text-align: right;\">\n",
       "      <th></th>\n",
       "      <th>inline-comment-id</th>\n",
       "      <th># Comment</th>\n",
       "      <th>Question</th>\n",
       "      <th>Final Label</th>\n",
       "      <th>0</th>\n",
       "    </tr>\n",
       "  </thead>\n",
       "  <tbody>\n",
       "    <tr>\n",
       "      <th>0</th>\n",
       "      <td>84326dd1_566c7146</td>\n",
       "      <td>1</td>\n",
       "      <td>is this what they intended? don't they really ...</td>\n",
       "      <td>3</td>\n",
       "      <td>doesn</td>\n",
       "    </tr>\n",
       "    <tr>\n",
       "      <th>1</th>\n",
       "      <td>84326dd1_566c7146</td>\n",
       "      <td>2</td>\n",
       "      <td>is this what they intended? don't they really ...</td>\n",
       "      <td>5</td>\n",
       "      <td>i</td>\n",
       "    </tr>\n",
       "    <tr>\n",
       "      <th>2</th>\n",
       "      <td>99d1f8e4_92b31cea</td>\n",
       "      <td>3</td>\n",
       "      <td>Don't we need to increment 'i' in the else cas...</td>\n",
       "      <td>1</td>\n",
       "      <td>don</td>\n",
       "    </tr>\n",
       "    <tr>\n",
       "      <th>3</th>\n",
       "      <td>193d089f_f5fac752</td>\n",
       "      <td>4</td>\n",
       "      <td>i can't see anywhere where this is set to fals...</td>\n",
       "      <td>1</td>\n",
       "      <td>which</td>\n",
       "    </tr>\n",
       "    <tr>\n",
       "      <th>4</th>\n",
       "      <td>50c2f81e_ac4fd6fc</td>\n",
       "      <td>5</td>\n",
       "      <td>are you sure you want to include this source f...</td>\n",
       "      <td>5</td>\n",
       "      <td>haven't</td>\n",
       "    </tr>\n",
       "    <tr>\n",
       "      <th>...</th>\n",
       "      <td>...</td>\n",
       "      <td>...</td>\n",
       "      <td>...</td>\n",
       "      <td>...</td>\n",
       "      <td>...</td>\n",
       "    </tr>\n",
       "    <tr>\n",
       "      <th>494</th>\n",
       "      <td>cafaac81_2fec65e1</td>\n",
       "      <td>495</td>\n",
       "      <td>does this work for glibc? they have a FORTIFY ...</td>\n",
       "      <td>3</td>\n",
       "      <td>she's</td>\n",
       "    </tr>\n",
       "    <tr>\n",
       "      <th>495</th>\n",
       "      <td>bf1dbc5e_1aa99db1</td>\n",
       "      <td>496</td>\n",
       "      <td>extern \"C\" but using bool without &lt;stdbool.h&gt; ...</td>\n",
       "      <td>5</td>\n",
       "      <td>after</td>\n",
       "    </tr>\n",
       "    <tr>\n",
       "      <th>496</th>\n",
       "      <td>bf1dbc5e_1aa99db1</td>\n",
       "      <td>497</td>\n",
       "      <td>extern \"C\" but using bool without &lt;stdbool.h&gt; ...</td>\n",
       "      <td>1</td>\n",
       "      <td>couldn</td>\n",
       "    </tr>\n",
       "    <tr>\n",
       "      <th>497</th>\n",
       "      <td>9f439833_6e39afeb</td>\n",
       "      <td>498</td>\n",
       "      <td>Did you hit build issues here or is this just ...</td>\n",
       "      <td>3</td>\n",
       "      <td>yourselves</td>\n",
       "    </tr>\n",
       "    <tr>\n",
       "      <th>498</th>\n",
       "      <td>7f3264d4_cd929dd0</td>\n",
       "      <td>499</td>\n",
       "      <td>Do we not really need a read barrier here (lik...</td>\n",
       "      <td>3</td>\n",
       "      <td>very</td>\n",
       "    </tr>\n",
       "  </tbody>\n",
       "</table>\n",
       "<p>499 rows × 5 columns</p>\n",
       "</div>"
      ],
      "text/plain": [
       "     inline-comment-id  # Comment  \\\n",
       "0    84326dd1_566c7146          1   \n",
       "1    84326dd1_566c7146          2   \n",
       "2    99d1f8e4_92b31cea          3   \n",
       "3    193d089f_f5fac752          4   \n",
       "4    50c2f81e_ac4fd6fc          5   \n",
       "..                 ...        ...   \n",
       "494  cafaac81_2fec65e1        495   \n",
       "495  bf1dbc5e_1aa99db1        496   \n",
       "496  bf1dbc5e_1aa99db1        497   \n",
       "497  9f439833_6e39afeb        498   \n",
       "498  7f3264d4_cd929dd0        499   \n",
       "\n",
       "                                              Question  Final Label  \\\n",
       "0    is this what they intended? don't they really ...            3   \n",
       "1    is this what they intended? don't they really ...            5   \n",
       "2    Don't we need to increment 'i' in the else cas...            1   \n",
       "3    i can't see anywhere where this is set to fals...            1   \n",
       "4    are you sure you want to include this source f...            5   \n",
       "..                                                 ...          ...   \n",
       "494  does this work for glibc? they have a FORTIFY ...            3   \n",
       "495  extern \"C\" but using bool without <stdbool.h> ...            5   \n",
       "496  extern \"C\" but using bool without <stdbool.h> ...            1   \n",
       "497  Did you hit build issues here or is this just ...            3   \n",
       "498  Do we not really need a read barrier here (lik...            3   \n",
       "\n",
       "              0  \n",
       "0         doesn  \n",
       "1             i  \n",
       "2           don  \n",
       "3         which  \n",
       "4       haven't  \n",
       "..          ...  \n",
       "494       she's  \n",
       "495       after  \n",
       "496      couldn  \n",
       "497  yourselves  \n",
       "498        very  \n",
       "\n",
       "[499 rows x 5 columns]"
      ]
     },
     "execution_count": 88,
     "metadata": {},
     "output_type": "execute_result"
    }
   ],
   "source": [
    "df"
   ]
  },
  {
   "cell_type": "code",
   "execution_count": 89,
   "metadata": {},
   "outputs": [
    {
     "data": {
      "text/plain": [
       "0      3\n",
       "1      5\n",
       "2      1\n",
       "3      1\n",
       "4      5\n",
       "      ..\n",
       "494    3\n",
       "495    5\n",
       "496    1\n",
       "497    3\n",
       "498    3\n",
       "Name: Final Label, Length: 499, dtype: int64"
      ]
     },
     "execution_count": 89,
     "metadata": {},
     "output_type": "execute_result"
    }
   ],
   "source": [
    "Y=df.iloc[:,-2]\n",
    "Y"
   ]
  },
  {
   "cell_type": "code",
   "execution_count": 90,
   "metadata": {},
   "outputs": [],
   "source": [
    "from sklearn.model_selection import train_test_split"
   ]
  },
  {
   "cell_type": "code",
   "execution_count": 91,
   "metadata": {},
   "outputs": [],
   "source": [
    "tfidf = TfidfVectorizer(sublinear_tf=True, min_df=5, norm='l2', ngram_range=(1, 2), stop_words='english')\n",
    "X = tfidf.fit_transform(corpus).toarray()\n",
    "y = df.iloc[:, -1].values"
   ]
  },
  {
   "cell_type": "code",
   "execution_count": 92,
   "metadata": {},
   "outputs": [],
   "source": [
    "xt,xs,yt, ys = train_test_split(X, Y, test_size = 0.3, random_state = 0)"
   ]
  },
  {
   "cell_type": "code",
   "execution_count": 93,
   "metadata": {},
   "outputs": [],
   "source": [
    "from sklearn.svm import SVC\n",
    "classifier = SVC(kernel = 'sigmoid', random_state = 0)\n",
    "classifier.fit(xt, yt)\n",
    "y_pred = classifier.predict(xs)"
   ]
  },
  {
   "cell_type": "code",
   "execution_count": 94,
   "metadata": {},
   "outputs": [
    {
     "data": {
      "text/plain": [
       "0.58"
      ]
     },
     "execution_count": 94,
     "metadata": {},
     "output_type": "execute_result"
    }
   ],
   "source": [
    "from sklearn.metrics import accuracy_score\n",
    "accuracy_score(ys, y_pred)"
   ]
  },
  {
   "cell_type": "code",
   "execution_count": 95,
   "metadata": {},
   "outputs": [],
   "source": [
    "# gridsc=GridSearchCV(corpus, parameters, n_jobs=-1)\n",
    "# gridsc.fit(Xtdi,Y)"
   ]
  },
  {
   "cell_type": "code",
   "execution_count": 96,
   "metadata": {},
   "outputs": [
    {
     "data": {
      "text/plain": [
       "0.9261744966442953"
      ]
     },
     "execution_count": 96,
     "metadata": {},
     "output_type": "execute_result"
    }
   ],
   "source": [
    "from sklearn.pipeline import Pipeline\n",
    "text_clf = Pipeline([('vect', TfidfVectorizer()),\n",
    "                      ('clf',SGDClassifier(loss='modified_huber', penalty='elasticnet',\n",
    "                                            alpha=1e-3, random_state=42))])\n",
    "text_clf = text_clf.fit(corpus,Y)\n",
    "pred=text_clf.predict(corpus[350:])\n",
    "accuracy_score(pred,Y[350:] )"
   ]
  },
  {
   "cell_type": "code",
   "execution_count": 97,
   "metadata": {},
   "outputs": [
    {
     "name": "stderr",
     "output_type": "stream",
     "text": [
      "C:\\Anaconda_All\\lib\\site-packages\\xgboost\\sklearn.py:888: UserWarning: The use of label encoder in XGBClassifier is deprecated and will be removed in a future release. To remove this warning, do the following: 1) Pass option use_label_encoder=False when constructing XGBClassifier object; and 2) Encode your labels (y) as integers starting with 0, i.e. 0, 1, 2, ..., [num_class - 1].\n",
      "  warnings.warn(label_encoder_deprecation_msg, UserWarning)\n"
     ]
    },
    {
     "name": "stdout",
     "output_type": "stream",
     "text": [
      "[15:58:24] WARNING: C:/Users/Administrator/workspace/xgboost-win64_release_1.3.0/src/learner.cc:1061: Starting in XGBoost 1.3.0, the default evaluation metric used with the objective 'multi:softprob' was changed from 'merror' to 'mlogloss'. Explicitly set eval_metric if you'd like to restore the old behavior.\n"
     ]
    },
    {
     "data": {
      "text/plain": [
       "0.8859060402684564"
      ]
     },
     "execution_count": 97,
     "metadata": {},
     "output_type": "execute_result"
    }
   ],
   "source": [
    "from sklearn.pipeline import Pipeline\n",
    "text_clf = Pipeline([('vect', TfidfVectorizer()),\n",
    "                      ('clf',XGC)])\n",
    "text_clf = text_clf.fit(corpus,Y)\n",
    "pred=text_clf.predict(corpus[350:])\n",
    "accuracy_score(pred,Y[350:] )"
   ]
  },
  {
   "cell_type": "code",
   "execution_count": 98,
   "metadata": {
    "jupyter": {
     "source_hidden": true
    }
   },
   "outputs": [],
   "source": [
    "from sklearn.model_selection import GridSearchCV\n",
    "parameters = {'vect__ngram_range': [(1, 1), (1, 2)],\n",
    "              'clf__alpha': (1e-2, 1e-3)}"
   ]
  },
  {
   "cell_type": "code",
   "execution_count": 99,
   "metadata": {},
   "outputs": [],
   "source": [
    "# from sklearn.model_selection import cross_val_score\n",
    "# accuracies = cross_val_score(estimator = XGC, X =xt, y = yt, cv = 10)\n",
    "# print(\"Accuracy: {:.2f} %\".format(accuracies.mean()*100))\n",
    "# print(\"Standard Deviation: {:.2f} %\".format(accuracies.std()*100))"
   ]
  },
  {
   "cell_type": "code",
   "execution_count": null,
   "metadata": {},
   "outputs": [],
   "source": []
  },
  {
   "cell_type": "code",
   "execution_count": null,
   "metadata": {},
   "outputs": [],
   "source": []
  }
 ],
 "metadata": {
  "kernelspec": {
   "display_name": "Python 3 (ipykernel)",
   "language": "python",
   "name": "python3"
  },
  "language_info": {
   "codemirror_mode": {
    "name": "ipython",
    "version": 3
   },
   "file_extension": ".py",
   "mimetype": "text/x-python",
   "name": "python",
   "nbconvert_exporter": "python",
   "pygments_lexer": "ipython3",
   "version": "3.8.10"
  }
 },
 "nbformat": 4,
 "nbformat_minor": 4
}
